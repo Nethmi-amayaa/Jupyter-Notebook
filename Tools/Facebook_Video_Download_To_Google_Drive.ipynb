{
  "cells": [
    {
      "cell_type": "markdown",
      "metadata": {
        "id": "view-in-github",
        "colab_type": "text"
      },
      "source": [
        "<a href=\"https://colab.research.google.com/github/kavidu-dilhara/Google-Drive-Tool/blob/main/Tools/Facebook_Video_Download_To_Google_Drive.ipynb\" target=\"_parent\"><img src=\"https://colab.research.google.com/assets/colab-badge.svg\" alt=\"Open In Colab\"/></a>"
      ]
    },
    {
      "cell_type": "markdown",
      "metadata": {
        "id": "G-WMxR4SJadt"
      },
      "source": [
        "## Download Facebook Video\n",
        "\n",
        "* This code downloads a publicly available facebook video\n",
        "* Just pass it the video link and where you'd like to save it on your machine"
      ]
    },
    {
      "cell_type": "markdown",
      "metadata": {
        "id": "_A4po_kQJad7"
      },
      "source": [
        "#### Import required packages"
      ]
    },
    {
      "cell_type": "code",
      "execution_count": null,
      "metadata": {
        "cellView": "form",
        "id": "i7lUNsQwJad9"
      },
      "outputs": [],
      "source": [
        "#@markdown ⬅️ Import required packages\n",
        "import sys\n",
        "import os\n",
        "import re\n",
        "import requests as r\n",
        "!pip install wget"
      ]
    },
    {
      "cell_type": "code",
      "execution_count": null,
      "metadata": {
        "cellView": "form",
        "id": "FL653EjwJaeD"
      },
      "outputs": [],
      "source": [
        "#@markdown  This is the function that does the download pass it the FB video URL and a path to the destination folder\n",
        "def download_fbvid(link, dest_folder):\n",
        "    try:\n",
        "        html = r.get(link)\n",
        "        hdvideo_url = re.search('hd_src:\"(.+?)\"', html.text)[1]\n",
        "    except r.ConnectionError as e:\n",
        "        print(\"OOPS!! Connection Error.\")\n",
        "        return False\n",
        "    except r.Timeout as e:\n",
        "        print(\"OOPS!! Timeout Error\")\n",
        "        return False\n",
        "    except r.RequestException as e:\n",
        "        print(\"OOPS!! General Error or Invalid URL\")\n",
        "        return False\n",
        "    except (KeyboardInterrupt, SystemExit):\n",
        "        print(\"Ok ok, quitting\")\n",
        "        sys.exit(1)\n",
        "    except TypeError:\n",
        "        print(\"Video May Private or Hd version not avilable\")\n",
        "        return False\n",
        "    else:\n",
        "        hd_url = hdvideo_url.replace('hd_src:\"', '')\n",
        "        wget.download(hd_url, dest_folder)\n",
        "        print(\"Downloaded successful!\")\n",
        "        return True"
      ]
    },
    {
      "cell_type": "code",
      "execution_count": null,
      "metadata": {
        "cellView": "form",
        "id": "LTmQRceJJaeG"
      },
      "outputs": [],
      "source": [
        "LINK = \"\" #@param {type:\"string\"}\n",
        "DOWNLOAD_PATH = \"/content/\" #@param {type:\"string\"}\n",
        "dest_folder = '$DOWNLOAD_PATH'\n",
        "download_fbvid(LINK, dest_folder)"
      ]
    }
  ],
  "metadata": {
    "kernelspec": {
      "display_name": "Python 3",
      "language": "python",
      "name": "python3"
    },
    "language_info": {
      "codemirror_mode": {
        "name": "ipython",
        "version": 3
      },
      "file_extension": ".py",
      "mimetype": "text/x-python",
      "name": "python",
      "nbconvert_exporter": "python",
      "pygments_lexer": "ipython3",
      "version": "3.7.6"
    },
    "colab": {
      "provenance": [],
      "include_colab_link": true
    }
  },
  "nbformat": 4,
  "nbformat_minor": 0
}
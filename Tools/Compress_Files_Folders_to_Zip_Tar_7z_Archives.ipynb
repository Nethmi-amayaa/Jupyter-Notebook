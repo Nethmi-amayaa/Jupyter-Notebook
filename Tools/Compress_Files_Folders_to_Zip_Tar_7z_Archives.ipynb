{
  "nbformat": 4,
  "nbformat_minor": 0,
  "metadata": {
    "colab": {
      "provenance": [],
      "include_colab_link": true
    },
    "kernelspec": {
      "name": "python3",
      "display_name": "Python 3"
    }
  },
  "cells": [
    {
      "cell_type": "markdown",
      "metadata": {
        "id": "view-in-github",
        "colab_type": "text"
      },
      "source": [
        "<a href=\"https://colab.research.google.com/github/kavidu-dilhara/Google-Drive-Tool/blob/main/Tools/Compress_Files_Folders_to_Zip_Tar_7z_Archives.ipynb\" target=\"_parent\"><img src=\"https://colab.research.google.com/assets/colab-badge.svg\" alt=\"Open In Colab\"/></a>"
      ]
    },
    {
      "cell_type": "markdown",
      "source": [
        "## __Compress Files/Folders to **/Zip/Tar/7z** Archives in Google Drive__"
      ],
      "metadata": {
        "id": "qMXUV4l953jD"
      }
    },
    {
      "cell_type": "code",
      "metadata": {
        "id": "tPuLCnbGFmxo",
        "cellView": "form"
      },
      "source": [
        "#@markdown ### Mount Google Drive<br><h5>To stream files we need to mount Google Drive.\n",
        "from google.colab import drive\n",
        "drive.mount('/content/drive', force_remount=True)"
      ],
      "execution_count": null,
      "outputs": []
    },
    {
      "cell_type": "code",
      "metadata": {
        "cellView": "form",
        "id": "XO8dzdyyH5pT"
      },
      "source": [
        "# ============================= FORM ============================= #\n",
        "# @markdown #### ⬅️ Archive Files\n",
        "MODE = \"ZIP\" #@param [\"ZIP\", \"TAR\", \"7Z\"]\n",
        "FILENAME = \"/content/drive/My Drive/password_protected.zip\"  # @param {type:\"string\"}\n",
        "PATH_TO_FILE = \"/content/drive/My Drive/Subscribe/RAR for Android v5.91 build 95 [Final] [Premium] [Mod]\"  # @param {type:\"string\"}\n",
        "ARCHIVE_PASSWORD = \"1234\" #@param {type:\"string\"}\n",
        "\n",
        "# option supports b k m g (bytes, kilobytes, megabytes, gigabytes)\n",
        "SPLIT = \"no\" #@param [\"1g\", \"2g\", \"3g\", \"4g\", \"5g\", \"no\"]\n",
        "\n",
        "\n",
        "compress = 2#@param  {type:\"slider\", min:0, max:9, step:0}\n",
        "#@markdown <font size=2%>Use this to path separate between to this character `|`. Ex `path/to /1 | path/to/2` </br>#Split only in zip mode.(Only for noobs)\n",
        "# ================================================================ #\n",
        "from pathlib import PurePosixPath\n",
        "\n",
        "pathList = PATH_TO_FILE.split('|')\n",
        "if MODE == \"ZIP\":\n",
        "    if not FILENAME:\n",
        "      FILENAME = \"/content/NEW_FILE.ZIP\"\n",
        "    if ARCHIVE_PASSWORD:\n",
        "      passADD = f'--password \"{ARCHIVE_PASSWORD}\"'\n",
        "    else:\n",
        "      passADD = ''\n",
        "    splitC = f\"-s {SPLIT}\" if not 'no' in SPLIT else \"\" \n",
        "    for part in pathList:\n",
        "      pathdic = PurePosixPath(part.strip())\n",
        "      parent = pathdic.parent\n",
        "      partName = pathdic.parts[-1]\n",
        "      cmd = f'cd \"{parent}\" && zip {passADD} -{compress} {splitC} -v -r -u \"{FILENAME}\" \"{partName}\"'\n",
        "      !$cmd\n",
        "elif MODE == \"TAR\":\n",
        "    if not FILENAME:\n",
        "      FILENAME = \"/content/NEW_FILE\"\n",
        "    cmd = f'GZIP=-{compress} tar -zcvf \"{FILENAME}.tar.gz\" {PATH_TO_FILE}'\n",
        "    !$cmd\n",
        "else:\n",
        "    if not FILENAME:\n",
        "        FILENAME = \"/content/NEW_FILE\"\n",
        "    for part in pathList:\n",
        "      pathdic = PurePosixPath(part.strip())\n",
        "      parent = pathdic.parent\n",
        "      partName = pathdic.parts[-1]\n",
        "      cmd = f'cd \"{parent}\" && 7z a -mx={compress} \"{FILENAME}.7z\" \"{partName}\"'\n",
        "      !$cmd"
      ],
      "execution_count": null,
      "outputs": []
    }
  ]
}
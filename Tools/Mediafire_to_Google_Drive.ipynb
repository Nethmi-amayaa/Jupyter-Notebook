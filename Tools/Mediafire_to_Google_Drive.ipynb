{
  "nbformat": 4,
  "nbformat_minor": 0,
  "metadata": {
    "colab": {
      "provenance": [],
      "include_colab_link": true
    },
    "kernelspec": {
      "name": "python3",
      "display_name": "Python 3"
    },
    "language_info": {
      "name": "python"
    }
  },
  "cells": [
    {
      "cell_type": "markdown",
      "metadata": {
        "id": "view-in-github",
        "colab_type": "text"
      },
      "source": [
        "<a href=\"https://colab.research.google.com/github/kavidu-dilhara/Google-Drive-Tool/blob/main/Tools/Mediafire_to_Google_Drive.ipynb\" target=\"_parent\"><img src=\"https://colab.research.google.com/assets/colab-badge.svg\" alt=\"Open In Colab\"/></a>"
      ]
    },
    {
      "cell_type": "markdown",
      "metadata": {
        "id": "ViaB2KYBHhzp"
      },
      "source": [
        "# **Mediafire to Google Drive**"
      ]
    },
    {
      "cell_type": "code",
      "metadata": {
        "id": "lJCNgHNKMtDu",
        "cellView": "form"
      },
      "source": [
        "#@markdown ### Mount Google Drive<br><h5>To stream files we need to mount Google Drive.\n",
        "from google.colab import drive\n",
        "drive.mount('/content/drive', force_remount=True)"
      ],
      "execution_count": null,
      "outputs": []
    },
    {
      "cell_type": "code",
      "source": [
        "#@markdown ### Install Mediafire-dl and Initialize Session\n",
        "!pip3 install git+https://github.com/Juvenal-Yescas/mediafire-dl"
      ],
      "metadata": {
        "cellView": "form",
        "id": "6sAeINfXtGpF"
      },
      "execution_count": null,
      "outputs": []
    },
    {
      "cell_type": "code",
      "source": [
        "#@markdown ##Download <h5>Enter your Download Link & Output file name(with type)\n",
        "import mediafire_dl\n",
        "\n",
        "url = 'https://www.mediafire.com/file/fg6ip510iw3zeyq/MediaFire_-_Getting_Started.pdf/file'#@param {type:\"string\"}\n",
        "output = 'MediaFire_-_Getting_Started.pdf' #@param {type:\"string\"}\n",
        "DOWNLOAD_PATH = \"/content/drive/Mydrive\" #@param {type:\"string\"}\n",
        "mediafire_dl.download(url, output, quiet=False)\n",
        "!sudo cp -r -v \"/content/$output\" \"$DOWNLOAD_PATH\""
      ],
      "metadata": {
        "cellView": "form",
        "id": "ftwIoQZAtwhJ"
      },
      "execution_count": null,
      "outputs": []
    }
  ]
}
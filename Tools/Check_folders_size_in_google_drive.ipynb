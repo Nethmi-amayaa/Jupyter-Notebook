{
  "nbformat": 4,
  "nbformat_minor": 0,
  "metadata": {
    "colab": {
      "provenance": [],
      "include_colab_link": true
    },
    "kernelspec": {
      "name": "python3",
      "display_name": "Python 3"
    },
    "language_info": {
      "name": "python"
    }
  },
  "cells": [
    {
      "cell_type": "markdown",
      "metadata": {
        "id": "view-in-github",
        "colab_type": "text"
      },
      "source": [
        "<a href=\"https://colab.research.google.com/github/kavidu-dilhara/Google-Drive-Tool/blob/main/Tools/Check_folders_size_in_google_drive.ipynb\" target=\"_parent\"><img src=\"https://colab.research.google.com/assets/colab-badge.svg\" alt=\"Open In Colab\"/></a>"
      ]
    },
    {
      "cell_type": "markdown",
      "metadata": {
        "id": "D_TkjpVdn0Fx"
      },
      "source": [
        "#__Checking folders size in Google Drive__"
      ]
    },
    {
      "cell_type": "code",
      "metadata": {
        "id": "4g5ovZ3Qn196",
        "cellView": "form"
      },
      "source": [
        "#@markdown ### Mount Google Drive To<br><h5> stream files we need to mount Google Drive.\n",
        "from google.colab import drive drive.mount('/content/drive')"
      ],
      "execution_count": null,
      "outputs": []
    },
    {
      "cell_type": "code",
      "metadata": {
        "id": "ayQDim_hn2_5",
        "cellView": "form"
      },
      "source": [
        "#@markdown ###Enter Your Folder Path To find out the Disk usage\n",
        "FOLDER_PATH = \"/content/drive/Shareddrives/1\" #@param {type:\"string\"}\n",
        "!ls -l \"$FOLDER_PATH\"\n",
        "!du -sh \"$FOLDER_PATH\""
      ],
      "execution_count": null,
      "outputs": []
    }
  ]
}
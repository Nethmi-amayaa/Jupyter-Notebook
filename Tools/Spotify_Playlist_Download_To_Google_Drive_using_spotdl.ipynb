{
  "nbformat": 4,
  "nbformat_minor": 0,
  "metadata": {
    "colab": {
      "provenance": [],
      "collapsed_sections": [
        "Yzw-fb9zknCC",
        "qZOgf_w3joz7",
        "5T4xvMPIiL-m",
        "TY5a_HhtmSkF",
        "J331NusgndR1",
        "3HaXVJS0lydY"
      ],
      "include_colab_link": true
    },
    "kernelspec": {
      "name": "python3",
      "display_name": "Python 3"
    },
    "language_info": {
      "name": "python"
    }
  },
  "cells": [
    {
      "cell_type": "markdown",
      "metadata": {
        "id": "view-in-github",
        "colab_type": "text"
      },
      "source": [
        "<a href=\"https://colab.research.google.com/github/kavidu-dilhara/Google-Drive-Tool/blob/main/Tools/Spotify_Playlist_Download_To_Google_Drive_using_spotdl.ipynb\" target=\"_parent\"><img src=\"https://colab.research.google.com/assets/colab-badge.svg\" alt=\"Open In Colab\"/></a>"
      ]
    },
    {
      "cell_type": "markdown",
      "source": [
        "##Download Spotify Playlist To Google Drive using spotdl"
      ],
      "metadata": {
        "id": "eQ5J-8PO7ex7"
      }
    },
    {
      "cell_type": "code",
      "source": [
        "#@markdown  Run this cell to download all necccesary libraries for `spotdl` to work\n",
        "!apt-get remove ffmpeg\n",
        "!add-apt-repository -y ppa:savoury1/ffmpeg4\n",
        "!apt install -y ffmpeg\n",
        "!pip install spotdl"
      ],
      "metadata": {
        "id": "gx3JI_nIdmGW",
        "cellView": "form"
      },
      "execution_count": null,
      "outputs": []
    },
    {
      "cell_type": "code",
      "source": [
        "#@markdown ### Run cell to download playlist in colab\n",
        "#@markdown #### Steps:\n",
        "#@markdown 1. First enter playlist *url*\n",
        "#@markdown 2.  select `run after` from `Runtime` or press `ctrl`+`F10`\n",
        "\n",
        "#@markdown **Note:- Make sure to run the `reset cell` in the end before running this cell again to download another playlist.** \n",
        "#@markdown As it is essential that empty songs directory is created before the move command is executed.\n",
        "\n",
        "\n",
        "#@title Enter spotify playlist URL\n",
        "\n",
        "url = ' https://open.spotify.com/playlist/6an0hNyshVMWORG7qVNUbq ' #@param {type:\"string\"}\n",
        "\n",
        "\n",
        "!spotdl url | grep -e [Found] > ~/sp.log\n",
        "!mkdir songs\n",
        "!find -type f -name \"*.mp3\" -exec mv {} /content/songs/ \\;"
      ],
      "metadata": {
        "id": "ElhD6G_8dHyb",
        "cellView": "form"
      },
      "execution_count": null,
      "outputs": []
    },
    {
      "cell_type": "code",
      "source": [
        "#@markdown ⬅️ Copy Song Folder To Drive \n",
        "DRIVE_PATH = \"/content/drive/drive2\" #@param {type:\"string\"}\n",
        "!sudo cp -r -v \"/content/songs/\" \"$DRIVE_PATH\""
      ],
      "metadata": {
        "cellView": "form",
        "id": "qiJyRDbh_ooR"
      },
      "execution_count": null,
      "outputs": []
    },
    {
      "cell_type": "code",
      "source": [
        "#@markdown ### Zip the songs folder to download the folder\n",
        "\n",
        "\n",
        "#@markdown **Note:- you can also transfer the zip file to your google drive by connecting it to the colab notebook. See this [resource](https://stackoverflow.com/questions/47744131/colaboratory-can-i-access-to-my-google-drive-folder-and-file) to know how to do it.** \n",
        "!zip -r /content/song.zip /content/songs"
      ],
      "metadata": {
        "id": "MR4t3BWxoxKs",
        "cellView": "form"
      },
      "execution_count": null,
      "outputs": []
    },
    {
      "cell_type": "markdown",
      "source": [
        "### Reset the colab environment to download another playlist \n",
        "\n",
        "### To do so :\n",
        "1. The songs folder is deleted\n",
        "2. The songs zip file is removed"
      ],
      "metadata": {
        "id": "J331NusgndR1"
      }
    },
    {
      "cell_type": "code",
      "source": [
        "\n",
        "#@markdown ### Reset the colab environment to download another playlist \n",
        "\n",
        "#@markdown ### To do so :\n",
        "#@markdown 1. The songs folder is deleted\n",
        "#@markdown 2. The songs zip file is removed \n",
        "\n",
        "!rm -r /content/songs\n",
        "!rm -r /content/songs.zip"
      ],
      "metadata": {
        "id": "V6LBhqnHoGyV",
        "cellView": "form"
      },
      "execution_count": null,
      "outputs": []
    },
    {
      "cell_type": "markdown",
      "source": [
        "### Miscellaneous cells"
      ],
      "metadata": {
        "id": "3HaXVJS0lydY"
      }
    },
    {
      "cell_type": "code",
      "source": [
        "# removing all mp3 files\n",
        "#!find -type f -name \"*.mp3\" -exec rm {} \\;"
      ],
      "metadata": {
        "id": "VRUwR3YP94hv"
      },
      "execution_count": null,
      "outputs": []
    },
    {
      "cell_type": "code",
      "source": [
        "# finding size of files\n",
        "#!ls -lh"
      ],
      "metadata": {
        "id": "TicsIh7_rF7c"
      },
      "execution_count": null,
      "outputs": []
    },
    {
      "cell_type": "code",
      "source": [
        "# finding number of files in songs folder\n",
        "!ls /content/songs | wc -l;"
      ],
      "metadata": {
        "id": "gffzZKpUlrMh"
      },
      "execution_count": null,
      "outputs": []
    }
  ]
}
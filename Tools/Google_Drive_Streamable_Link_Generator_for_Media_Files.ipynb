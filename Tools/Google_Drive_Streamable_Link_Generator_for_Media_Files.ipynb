{
  "nbformat": 4,
  "nbformat_minor": 0,
  "metadata": {
    "colab": {
      "provenance": [],
      "include_colab_link": true
    },
    "kernelspec": {
      "name": "python3",
      "display_name": "Python 3"
    }
  },
  "cells": [
    {
      "cell_type": "markdown",
      "metadata": {
        "id": "view-in-github",
        "colab_type": "text"
      },
      "source": [
        "<a href=\"https://colab.research.google.com/github/kavidu-dilhara/Google-Drive-Tool/blob/main/Tools/Google_Drive_Streamable_Link_Generator_for_Media_Files.ipynb\" target=\"_parent\"><img src=\"https://colab.research.google.com/assets/colab-badge.svg\" alt=\"Open In Colab\"/></a>"
      ]
    },
    {
      "cell_type": "markdown",
      "metadata": {
        "id": "ywcQdwyPlyHa"
      },
      "source": [
        "## Google Drive Streamable Link Generator for Media Files\n",
        "* Make sure your file is accessable by anyone with the link\n",
        "\n",
        "* It's helpful to have a publicly shared folder when creating links, then you won't have to edit the Share setting for each individual file.\n",
        "* This script should work with every type of URL Google Drive can generate. As long as the File ID is there, anything else shouldn't matter."
      ]
    },
    {
      "cell_type": "code",
      "metadata": {
        "id": "tf-nH8B1lStj",
        "cellView": "form"
      },
      "source": [
        "#@title ⬅️ ឵឵Click Here to Generate Streamable Links\n",
        "import re\n",
        "\n",
        "shared_file_link = \"\" #@param {type:\"string\"}\n",
        "result = re.search(\"[\\w-]{33}\", shared_file_link)\n",
        "your_api_key = \"\" #@param {type:\"string\"}\n",
        "drive_file_id = result.group(0)\n",
        "\n",
        "beg_url = \"https://www.googleapis.com/drive/v3/files/\"\n",
        "end_url = \"/?key=\" + your_api_key + \"&alt=media\"\n",
        "\n",
        "print(beg_url + drive_file_id + end_url)"
      ],
      "execution_count": null,
      "outputs": []
    }
  ]
}
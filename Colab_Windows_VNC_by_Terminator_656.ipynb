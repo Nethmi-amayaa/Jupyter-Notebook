{
  "cells": [
    {
      "cell_type": "markdown",
      "metadata": {
        "id": "qvlZpjtVUBqc"
      },
      "source": [
        "Windows running on goole colab with QEMU-KVM:\n",
        "\n",
        "- Requirement: \n",
        "  + VNC Viewer: https://www.realvnc.com/en/connect/download/viewer/\n",
        "  + Ngrok Token: https://dashboard.ngrok.com/get-started/your-authtoken"
      ]
    },
    {
      "cell_type": "code",
      "execution_count": null,
      "metadata": {
        "id": "zPuYqJaFS6tZ",
        "outputId": "7be9c5e6-d9dc-49ad-ad07-a85414ba84db",
        "colab": {
          "base_uri": "https://localhost:8080/"
        }
      },
      "outputs": [
        {
          "output_type": "stream",
          "name": "stdout",
          "text": [
            "Paste authtoken here (Copy and Ctrl+V to paste then press Enter): "
          ]
        }
      ],
      "source": [
        "#@title **Win 10 Lite x64 2cpu/8gb by Terminator**\n",
        "#@markdown Plz subcribe on youtube for more rdps  https://www.youtube.com/channel/UCyzfPPPxhL9wlG_ee21qibQ!\n",
        "!wget https://github.com/kmille36/Linux-to-Windows-with-QEMU/raw/master/Linux_QemuWindows10ColabNoVT-X.sh > /dev/null 2>&1\n",
        "!chmod +x Linux_QemuWindows10ColabNoVT-X.sh\n",
        "!./Linux_QemuWindows10ColabNoVT-X.sh"
      ]
    },
    {
      "cell_type": "code",
      "source": [
        ""
      ],
      "metadata": {
        "id": "6qktOaavxO5X"
      },
      "execution_count": null,
      "outputs": []
    },
    {
      "cell_type": "markdown",
      "source": [
        ""
      ],
      "metadata": {
        "id": "fOEAKRe7xSdB"
      }
    }
  ],
  "metadata": {
    "colab": {
      "collapsed_sections": [],
      "name": "Colab Windows VNC by Terminator/656.ipynb",
      "provenance": []
    },
    "kernelspec": {
      "display_name": "Python 3",
      "name": "python3"
    },
    "language_info": {
      "name": "python"
    }
  },
  "nbformat": 4,
  "nbformat_minor": 0
}
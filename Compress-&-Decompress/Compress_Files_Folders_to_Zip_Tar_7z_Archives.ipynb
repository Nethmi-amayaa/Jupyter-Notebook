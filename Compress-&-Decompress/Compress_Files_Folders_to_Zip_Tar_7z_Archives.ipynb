{
  "nbformat": 4,
  "nbformat_minor": 0,
  "metadata": {
    "colab": {
      "name": "Compress Files/Folders to Zip/Tar/7z Archives in Google Drive & other Clouds.ipynb",
      "provenance": [],
      "collapsed_sections": []
    },
    "kernelspec": {
      "name": "python3",
      "display_name": "Python 3"
    }
  },
  "cells": [
    {
      "cell_type": "code",
      "metadata": {
        "id": "tPuLCnbGFmxo",
        "cellView": "form"
      },
      "source": [
        "#@markdown <br><center><a href='https://www.youtube.com/watch?v=qQ3CUHjbJ0w' alt=\"Mount-Gdrive\"/></center>\n",
        "#@markdown <center><h3>Mount Gdrive to /content/drive -- YouTube</h3></center><br>\n",
        "\n",
        "from google.colab import drive\n",
        "drive.mount('/content/drive', force_remount=True)"
      ],
      "execution_count": null,
      "outputs": []
    },
    {
      "cell_type": "markdown",
      "metadata": {
        "id": "u5gtC3WRH5o-"
      },
      "source": [
        "## __Compress Files/Folders to **/Zip/Tar/7z** Archives in Google Drive & other Clouds__"
      ]
    },
    {
      "cell_type": "code",
      "metadata": {
        "cellView": "form",
        "id": "XO8dzdyyH5pT",
        "outputId": "071a5bdf-c6ce-479f-a1d1-9d40b2ffea02",
        "colab": {
          "base_uri": "https://localhost:8080/",
          "height": 106
        }
      },
      "source": [
        "# ============================= FORM ============================= #\n",
        "# @markdown #### ⬅️ Archive Files\n",
        "MODE = \"ZIP\" #@param [\"ZIP\", \"TAR\", \"7Z\"]\n",
        "FILENAME = \"/content/drive/My Drive/password_protected.zip\"  # @param {type:\"string\"}\n",
        "PATH_TO_FILE = \"/content/drive/My Drive/Subscribe/RAR for Android v5.91 build 95 [Final] [Premium] [Mod]\"  # @param {type:\"string\"}\n",
        "ARCHIVE_PASSWORD = \"subscribe\" #@param {type:\"string\"}\n",
        "\n",
        "# option supports b k m g (bytes, kilobytes, megabytes, gigabytes)\n",
        "SPLIT = \"no\" #@param [\"1g\", \"2g\", \"3g\", \"4g\", \"5g\", \"no\"]\n",
        "\n",
        "\n",
        "compress = 4#@param  {type:\"slider\", min:0, max:9, step:0}\n",
        "#@markdown <font size=2%>Use this to path separate between to this character `|`. Ex `path/to /1 | path/to/2` </br>#Split only in zip mode.(Only for noobs)\n",
        "# ================================================================ #\n",
        "from pathlib import PurePosixPath\n",
        "\n",
        "pathList = PATH_TO_FILE.split('|')\n",
        "if MODE == \"ZIP\":\n",
        "    if not FILENAME:\n",
        "      FILENAME = \"/content/NEW_FILE.ZIP\"\n",
        "    if ARCHIVE_PASSWORD:\n",
        "      passADD = f'--password \"{ARCHIVE_PASSWORD}\"'\n",
        "    else:\n",
        "      passADD = ''\n",
        "    splitC = f\"-s {SPLIT}\" if not 'no' in SPLIT else \"\" \n",
        "    for part in pathList:\n",
        "      pathdic = PurePosixPath(part.strip())\n",
        "      parent = pathdic.parent\n",
        "      partName = pathdic.parts[-1]\n",
        "      cmd = f'cd \"{parent}\" && zip {passADD} -{compress} {splitC} -v -r -u \"{FILENAME}\" \"{partName}\"'\n",
        "      !$cmd\n",
        "elif MODE == \"TAR\":\n",
        "    if not FILENAME:\n",
        "      FILENAME = \"/content/NEW_FILE\"\n",
        "    cmd = f'GZIP=-{compress} tar -zcvf \"{FILENAME}.tar.gz\" {PATH_TO_FILE}'\n",
        "    !$cmd\n",
        "else:\n",
        "    if not FILENAME:\n",
        "        FILENAME = \"/content/NEW_FILE\"\n",
        "    for part in pathList:\n",
        "      pathdic = PurePosixPath(part.strip())\n",
        "      parent = pathdic.parent\n",
        "      partName = pathdic.parts[-1]\n",
        "      cmd = f'cd \"{parent}\" && 7z a -mx={compress} \"{FILENAME}.7z\" \"{partName}\"'\n",
        "      !$cmd\n"
      ],
      "execution_count": 28,
      "outputs": [
        {
          "output_type": "stream",
          "text": [
            "\tzip warning: /content/drive/My Drive/password_protected.zip not found or empty\n",
            "  adding: RAR for Android v5.91 build 95 [Final] [Premium] [Mod]/\t(in=0) (out=0) (stored 0%)\n",
            "  adding: RAR for Android v5.91 build 95 [Final] [Premium] [Mod]/RAR-Premium-v5.91.build95_build_95-Mod.apk \t(in=5080271) (out=4164469) (deflated 18%)\n",
            "total bytes=5080271, compressed=4164481 -> 18% savings\n"
          ],
          "name": "stdout"
        }
      ]
    },
    {
      "cell_type": "code",
      "metadata": {
        "cellView": "form",
        "id": "feopL9Spvf1S"
      },
      "source": [
        "#@markdown <br><center><a href='https://www.youtube.com/watch?v=xjZTqRuP0cM' alt=\"UnMount-Gdrive\"/></center>\n",
        "#@markdown <center><h3>UnMount Google Drive -- YouTube</h3></center><br>\n",
        "\n",
        "from google.colab import drive\n",
        "drive.flush_and_unmount()"
      ],
      "execution_count": null,
      "outputs": []
    }
  ]
}
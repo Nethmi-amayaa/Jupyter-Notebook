{
  "nbformat": 4,
  "nbformat_minor": 0,
  "metadata": {
    "colab": {
      "name": "Mediafire to Google Drive.ipynb",
      "provenance": []
    },
    "kernelspec": {
      "name": "python3",
      "display_name": "Python 3"
    },
    "language_info": {
      "name": "python"
    }
  },
  "cells": [
    {
      "cell_type": "markdown",
      "metadata": {
        "id": "ViaB2KYBHhzp"
      },
      "source": [
        "# **Mediafire to Google Drive**"
      ]
    },
    {
      "cell_type": "markdown",
      "metadata": {
        "id": "p2C9iaFLMrb5"
      },
      "source": [
        "Mount Google **Drive**"
      ]
    },
    {
      "cell_type": "code",
      "metadata": {
        "id": "lJCNgHNKMtDu",
        "colab": {
          "base_uri": "https://localhost:8080/"
        },
        "outputId": "73cfaf09-daed-480f-8d8a-c91e99f4f396"
      },
      "source": [
        "from google.colab import drive\n",
        "drive.mount('/content/drive', force_remount=True)"
      ],
      "execution_count": null,
      "outputs": [
        {
          "output_type": "stream",
          "name": "stdout",
          "text": [
            "Mounted at /content/drive\n"
          ]
        }
      ]
    },
    {
      "cell_type": "markdown",
      "metadata": {
        "id": "HW9EIlTqM4t-"
      },
      "source": [
        "**Run Command**"
      ]
    },
    {
      "cell_type": "code",
      "metadata": {
        "id": "EK0JaQClHbka",
        "cellView": "form",
        "colab": {
          "base_uri": "https://localhost:8080/"
        },
        "outputId": "9f4d3aee-a9b6-4fc1-b821-a47fee10ff0e"
      },
      "source": [
        "link = \"wget --header='Host: s5.krakenfiles.com' --header='User-Agent: Mozilla/5.0 (Windows NT 10.0; Win64; x64) AppleWebKit/537.36 (KHTML, like Gecko) Chrome/98.0.4758.87 Safari/537.36' --header='Accept: text/html,application/xhtml+xml,application/xml;q=0.9,image/avif,image/webp,image/apng,*/*;q=0.8,application/signed-exchange;v=b3;q=0.9' --header='Accept-Language: en-US,en;q=0.9' --header='Referer: https://krakenfiles.com/' --header='Cookie: cc_cookie={\\\"level\\\": [\\\"krakenfiles\\\",\\\"option1\\\",\\\"option2\\\",\\\"option3\\\",\\\"adsense\\\",\\\"option4\\\"]}' --header='Connection: keep-alive' 'https://s5.krakenfiles.com/force-download/MmJkMjhkYTAwZmIyMmQ4YlD8GgXcwksxzdhSeyMKqp-6Wz_1yk6XGCrr6uCdFmo8?fileHash=zavMWWY7z8' -c -O 'IDM.6.40.b.07.kuyhAa.Me.zip'\" #@param {type:\"string\"}\n",
        "path = \"/content/drive/Shareddrives/Disk2\" #@param {type:\"string\"}\n",
        "%cd \"$path\"\n",
        "!$link --no-check-certificate"
      ],
      "execution_count": null,
      "outputs": [
        {
          "output_type": "stream",
          "name": "stdout",
          "text": [
            "/content/drive/Shareddrives/Disk2\n",
            "--2022-02-14 04:10:36--  https://s5.krakenfiles.com/force-download/MmJkMjhkYTAwZmIyMmQ4YlD8GgXcwksxzdhSeyMKqp-6Wz_1yk6XGCrr6uCdFmo8?fileHash=zavMWWY7z8\n",
            "Resolving s5.krakenfiles.com (s5.krakenfiles.com)... 104.21.42.153, 172.67.206.146, 2606:4700:3031::ac43:ce92, ...\n",
            "Connecting to s5.krakenfiles.com (s5.krakenfiles.com)|104.21.42.153|:443... connected.\n",
            "HTTP request sent, awaiting response... 206 Partial Content\n",
            "Length: 13394861 (13M), 10151254 (9.7M) remaining [application/zip]\n",
            "Saving to: ‘IDM.6.40.b.07.kuyhAa.Me.zip’\n",
            "\n",
            "IDM.6.40.b.07.kuyhA 100%[++++===============>]  12.77M  3.91MB/s    in 2.5s    \n",
            "\n",
            "2022-02-14 04:10:40 (3.91 MB/s) - ‘IDM.6.40.b.07.kuyhAa.Me.zip’ saved [13394861/13394861]\n",
            "\n"
          ]
        }
      ]
    }
  ]
}